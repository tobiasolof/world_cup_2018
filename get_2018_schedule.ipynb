{
 "cells": [
  {
   "cell_type": "markdown",
   "metadata": {},
   "source": [
    "### Import"
   ]
  },
  {
   "cell_type": "code",
   "execution_count": 1,
   "metadata": {},
   "outputs": [
    {
     "name": "stderr",
     "output_type": "stream",
     "text": [
      "Using TensorFlow backend.\n"
     ]
    }
   ],
   "source": [
    "%load_ext autoreload\n",
    "%autoreload 2\n",
    "import world_cup_helpers\n",
    "import world_cup_2018_info\n",
    "\n",
    "import re\n",
    "import pandas as pd\n",
    "from datetime import datetime"
   ]
  },
  {
   "cell_type": "markdown",
   "metadata": {},
   "source": [
    "### Download schedule"
   ]
  },
  {
   "cell_type": "code",
   "execution_count": 2,
   "metadata": {},
   "outputs": [],
   "source": [
    "world_cup_2018 = pd.read_html('https://www.independent.co.uk/sport/football/world-cup/world-cup-2018-full-schedule-groups-fixtures-kick-off-times-venues-matches-wallchart-a8087881.html')[0]"
   ]
  },
  {
   "cell_type": "code",
   "execution_count": 3,
   "metadata": {},
   "outputs": [
    {
     "data": {
      "text/html": [
       "<div>\n",
       "<style scoped>\n",
       "    .dataframe tbody tr th:only-of-type {\n",
       "        vertical-align: middle;\n",
       "    }\n",
       "\n",
       "    .dataframe tbody tr th {\n",
       "        vertical-align: top;\n",
       "    }\n",
       "\n",
       "    .dataframe thead th {\n",
       "        text-align: right;\n",
       "    }\n",
       "</style>\n",
       "<table border=\"1\" class=\"dataframe\">\n",
       "  <thead>\n",
       "    <tr style=\"text-align: right;\">\n",
       "      <th></th>\n",
       "      <th>0</th>\n",
       "      <th>1</th>\n",
       "      <th>2</th>\n",
       "      <th>3</th>\n",
       "    </tr>\n",
       "  </thead>\n",
       "  <tbody>\n",
       "    <tr>\n",
       "      <th>0</th>\n",
       "      <td>GROUP STAGE</td>\n",
       "      <td>NaN</td>\n",
       "      <td>NaN</td>\n",
       "      <td>NaN</td>\n",
       "    </tr>\n",
       "    <tr>\n",
       "      <th>1</th>\n",
       "      <td>Date</td>\n",
       "      <td>Match</td>\n",
       "      <td>Venue</td>\n",
       "      <td>Kick-off (BST)</td>\n",
       "    </tr>\n",
       "    <tr>\n",
       "      <th>2</th>\n",
       "      <td>Thursday June 14</td>\n",
       "      <td>Russia v Saudi Arabia (A)</td>\n",
       "      <td>Moscow (Luzhniki)</td>\n",
       "      <td>4pm</td>\n",
       "    </tr>\n",
       "    <tr>\n",
       "      <th>3</th>\n",
       "      <td>Friday June 15</td>\n",
       "      <td>Egypt v Uruguay (A)</td>\n",
       "      <td>Ekaterinburg</td>\n",
       "      <td>1pm</td>\n",
       "    </tr>\n",
       "    <tr>\n",
       "      <th>4</th>\n",
       "      <td>Friday June 15</td>\n",
       "      <td>Morocco v Iran (B)</td>\n",
       "      <td>St Petersburg</td>\n",
       "      <td>4pm</td>\n",
       "    </tr>\n",
       "  </tbody>\n",
       "</table>\n",
       "</div>"
      ],
      "text/plain": [
       "                  0                          1                  2  \\\n",
       "0       GROUP STAGE                        NaN                NaN   \n",
       "1              Date                      Match              Venue   \n",
       "2  Thursday June 14  Russia v Saudi Arabia (A)  Moscow (Luzhniki)   \n",
       "3    Friday June 15        Egypt v Uruguay (A)       Ekaterinburg   \n",
       "4    Friday June 15         Morocco v Iran (B)      St Petersburg   \n",
       "\n",
       "                3  \n",
       "0             NaN  \n",
       "1  Kick-off (BST)  \n",
       "2             4pm  \n",
       "3             1pm  \n",
       "4             4pm  "
      ]
     },
     "execution_count": 3,
     "metadata": {},
     "output_type": "execute_result"
    }
   ],
   "source": [
    "world_cup_2018.head()"
   ]
  },
  {
   "cell_type": "markdown",
   "metadata": {},
   "source": [
    "### Format dataframe"
   ]
  },
  {
   "cell_type": "code",
   "execution_count": 4,
   "metadata": {},
   "outputs": [],
   "source": [
    "world_cup_2018.columns = world_cup_2018.iloc[1]\n",
    "world_cup_2018 = world_cup_2018.drop(1)\n",
    "world_cup_2018 = world_cup_2018.dropna(how='any')\n",
    "world_cup_2018 = world_cup_2018.reset_index(drop=True)\n",
    "world_cup_2018.index = range(1, len(world_cup_2018) + 1)"
   ]
  },
  {
   "cell_type": "code",
   "execution_count": 5,
   "metadata": {},
   "outputs": [],
   "source": [
    "world_cup_2018['date'] = world_cup_2018.Date.apply(lambda x: '2018-' + datetime.strptime(x, '%A %B %d').strftime('%m-%d'))\n",
    "world_cup_2018['home_team'] = world_cup_2018.Match.str.extract(r'(.*(?= v ))')\n",
    "world_cup_2018['home_team'] = world_cup_2018.home_team.apply(lambda team: world_cup_helpers.country_mapping.get(team, team))\n",
    "world_cup_2018['away_team'] = world_cup_2018.Match.str.extract(r'((?<= v ).*?(?= \\(|$))')\n",
    "world_cup_2018['away_team'] = world_cup_2018.away_team.apply(lambda team: world_cup_helpers.country_mapping.get(team, team))\n",
    "world_cup_2018['home_score'] = None\n",
    "world_cup_2018['away_score'] = None\n",
    "world_cup_2018['tournament'] = 'Fifa World Cup'\n",
    "world_cup_2018['city'] = world_cup_2018.Venue\n",
    "world_cup_2018['country'] = 'Russia'\n",
    "world_cup_2018['year'] = 2018\n",
    "\n",
    "world_cup_2018['pred_home_score'] = None\n",
    "world_cup_2018['pred_away_score'] = None\n",
    "for i in range(1, 7):\n",
    "    world_cup_2018['round_{}'.format(i)] = None\n",
    "world_cup_2018['experience'] = None\n",
    "world_cup_2018['age'] = None\n",
    "world_cup_2018['game_day'] = None\n",
    "\n",
    "world_cup_2018['group'] = world_cup_2018.Match.str.extract(r'((?<=\\().*(?=\\)))')\n",
    "\n",
    "world_cup_2018 = world_cup_2018.drop(columns=['Date', 'Match', 'Venue', 'Kick-off (BST)'])"
   ]
  },
  {
   "cell_type": "code",
   "execution_count": 6,
   "metadata": {},
   "outputs": [
    {
     "data": {
      "text/html": [
       "<div>\n",
       "<style scoped>\n",
       "    .dataframe tbody tr th:only-of-type {\n",
       "        vertical-align: middle;\n",
       "    }\n",
       "\n",
       "    .dataframe tbody tr th {\n",
       "        vertical-align: top;\n",
       "    }\n",
       "\n",
       "    .dataframe thead th {\n",
       "        text-align: right;\n",
       "    }\n",
       "</style>\n",
       "<table border=\"1\" class=\"dataframe\">\n",
       "  <thead>\n",
       "    <tr style=\"text-align: right;\">\n",
       "      <th>1</th>\n",
       "      <th>date</th>\n",
       "      <th>home_team</th>\n",
       "      <th>away_team</th>\n",
       "      <th>home_score</th>\n",
       "      <th>away_score</th>\n",
       "      <th>tournament</th>\n",
       "      <th>city</th>\n",
       "      <th>country</th>\n",
       "      <th>year</th>\n",
       "      <th>pred_home_score</th>\n",
       "      <th>...</th>\n",
       "      <th>round_1</th>\n",
       "      <th>round_2</th>\n",
       "      <th>round_3</th>\n",
       "      <th>round_4</th>\n",
       "      <th>round_5</th>\n",
       "      <th>round_6</th>\n",
       "      <th>experience</th>\n",
       "      <th>age</th>\n",
       "      <th>game_day</th>\n",
       "      <th>group</th>\n",
       "    </tr>\n",
       "  </thead>\n",
       "  <tbody>\n",
       "    <tr>\n",
       "      <th>1</th>\n",
       "      <td>2018-06-14</td>\n",
       "      <td>Russia</td>\n",
       "      <td>Saudi Arabia</td>\n",
       "      <td>None</td>\n",
       "      <td>None</td>\n",
       "      <td>Fifa World Cup</td>\n",
       "      <td>Moscow (Luzhniki)</td>\n",
       "      <td>Russia</td>\n",
       "      <td>2018</td>\n",
       "      <td>None</td>\n",
       "      <td>...</td>\n",
       "      <td>None</td>\n",
       "      <td>None</td>\n",
       "      <td>None</td>\n",
       "      <td>None</td>\n",
       "      <td>None</td>\n",
       "      <td>None</td>\n",
       "      <td>None</td>\n",
       "      <td>None</td>\n",
       "      <td>None</td>\n",
       "      <td>A</td>\n",
       "    </tr>\n",
       "    <tr>\n",
       "      <th>2</th>\n",
       "      <td>2018-06-15</td>\n",
       "      <td>Egypt</td>\n",
       "      <td>Uruguay</td>\n",
       "      <td>None</td>\n",
       "      <td>None</td>\n",
       "      <td>Fifa World Cup</td>\n",
       "      <td>Ekaterinburg</td>\n",
       "      <td>Russia</td>\n",
       "      <td>2018</td>\n",
       "      <td>None</td>\n",
       "      <td>...</td>\n",
       "      <td>None</td>\n",
       "      <td>None</td>\n",
       "      <td>None</td>\n",
       "      <td>None</td>\n",
       "      <td>None</td>\n",
       "      <td>None</td>\n",
       "      <td>None</td>\n",
       "      <td>None</td>\n",
       "      <td>None</td>\n",
       "      <td>A</td>\n",
       "    </tr>\n",
       "    <tr>\n",
       "      <th>3</th>\n",
       "      <td>2018-06-15</td>\n",
       "      <td>Morocco</td>\n",
       "      <td>Iran</td>\n",
       "      <td>None</td>\n",
       "      <td>None</td>\n",
       "      <td>Fifa World Cup</td>\n",
       "      <td>St Petersburg</td>\n",
       "      <td>Russia</td>\n",
       "      <td>2018</td>\n",
       "      <td>None</td>\n",
       "      <td>...</td>\n",
       "      <td>None</td>\n",
       "      <td>None</td>\n",
       "      <td>None</td>\n",
       "      <td>None</td>\n",
       "      <td>None</td>\n",
       "      <td>None</td>\n",
       "      <td>None</td>\n",
       "      <td>None</td>\n",
       "      <td>None</td>\n",
       "      <td>B</td>\n",
       "    </tr>\n",
       "    <tr>\n",
       "      <th>4</th>\n",
       "      <td>2018-06-15</td>\n",
       "      <td>Portugal</td>\n",
       "      <td>Spain</td>\n",
       "      <td>None</td>\n",
       "      <td>None</td>\n",
       "      <td>Fifa World Cup</td>\n",
       "      <td>Sochi</td>\n",
       "      <td>Russia</td>\n",
       "      <td>2018</td>\n",
       "      <td>None</td>\n",
       "      <td>...</td>\n",
       "      <td>None</td>\n",
       "      <td>None</td>\n",
       "      <td>None</td>\n",
       "      <td>None</td>\n",
       "      <td>None</td>\n",
       "      <td>None</td>\n",
       "      <td>None</td>\n",
       "      <td>None</td>\n",
       "      <td>None</td>\n",
       "      <td>B</td>\n",
       "    </tr>\n",
       "    <tr>\n",
       "      <th>5</th>\n",
       "      <td>2018-06-16</td>\n",
       "      <td>France</td>\n",
       "      <td>Australia</td>\n",
       "      <td>None</td>\n",
       "      <td>None</td>\n",
       "      <td>Fifa World Cup</td>\n",
       "      <td>Kazan</td>\n",
       "      <td>Russia</td>\n",
       "      <td>2018</td>\n",
       "      <td>None</td>\n",
       "      <td>...</td>\n",
       "      <td>None</td>\n",
       "      <td>None</td>\n",
       "      <td>None</td>\n",
       "      <td>None</td>\n",
       "      <td>None</td>\n",
       "      <td>None</td>\n",
       "      <td>None</td>\n",
       "      <td>None</td>\n",
       "      <td>None</td>\n",
       "      <td>C</td>\n",
       "    </tr>\n",
       "  </tbody>\n",
       "</table>\n",
       "<p>5 rows × 21 columns</p>\n",
       "</div>"
      ],
      "text/plain": [
       "1        date home_team     away_team home_score away_score      tournament  \\\n",
       "1  2018-06-14    Russia  Saudi Arabia       None       None  Fifa World Cup   \n",
       "2  2018-06-15     Egypt       Uruguay       None       None  Fifa World Cup   \n",
       "3  2018-06-15   Morocco          Iran       None       None  Fifa World Cup   \n",
       "4  2018-06-15  Portugal         Spain       None       None  Fifa World Cup   \n",
       "5  2018-06-16    France     Australia       None       None  Fifa World Cup   \n",
       "\n",
       "1               city country  year pred_home_score  ...  round_1 round_2  \\\n",
       "1  Moscow (Luzhniki)  Russia  2018            None  ...     None    None   \n",
       "2       Ekaterinburg  Russia  2018            None  ...     None    None   \n",
       "3      St Petersburg  Russia  2018            None  ...     None    None   \n",
       "4              Sochi  Russia  2018            None  ...     None    None   \n",
       "5              Kazan  Russia  2018            None  ...     None    None   \n",
       "\n",
       "1 round_3 round_4 round_5 round_6 experience   age game_day group  \n",
       "1    None    None    None    None       None  None     None     A  \n",
       "2    None    None    None    None       None  None     None     A  \n",
       "3    None    None    None    None       None  None     None     B  \n",
       "4    None    None    None    None       None  None     None     B  \n",
       "5    None    None    None    None       None  None     None     C  \n",
       "\n",
       "[5 rows x 21 columns]"
      ]
     },
     "execution_count": 6,
     "metadata": {},
     "output_type": "execute_result"
    }
   ],
   "source": [
    "world_cup_2018.head()"
   ]
  },
  {
   "cell_type": "markdown",
   "metadata": {},
   "source": [
    "### Group stage"
   ]
  },
  {
   "cell_type": "code",
   "execution_count": 7,
   "metadata": {},
   "outputs": [],
   "source": [
    "group_stage = world_cup_2018[:48].copy()\n",
    "group_stage['experience'] = group_stage.apply(world_cup_helpers.get_experience, axis=1)\n",
    "group_stage['age'] = group_stage.apply(world_cup_helpers.get_age, axis=1)\n",
    "group_stage['host_team'] = group_stage.apply(world_cup_helpers.get_host_team, axis=1)\n",
    "group_stage['game_day'] = world_cup_helpers.calculate_round(group_stage) + 1"
   ]
  },
  {
   "cell_type": "markdown",
   "metadata": {},
   "source": [
    "##### Pickle"
   ]
  },
  {
   "cell_type": "code",
   "execution_count": 8,
   "metadata": {},
   "outputs": [],
   "source": [
    "group_stage.to_pickle('world_cup_2018_group_stage.pkl')"
   ]
  },
  {
   "cell_type": "markdown",
   "metadata": {},
   "source": [
    "### Round of 16"
   ]
  },
  {
   "cell_type": "markdown",
   "metadata": {},
   "source": [
    "Sought output format:"
   ]
  },
  {
   "cell_type": "raw",
   "metadata": {},
   "source": [
    "round_of_16 = {\n",
    "    1: ('A', 1, 'B', 2),\n",
    "    2: ('B', 1, 'A', 2),\n",
    "    3: ('C', 1, 'D', 2),\n",
    "    4: ('D', 1, 'C', 2),\n",
    "    5: ('E', 1, 'F', 2),\n",
    "    6: ('F', 1, 'E', 2),\n",
    "    7: ('G', 1, 'H', 2),\n",
    "    8: ('H', 1, 'G', 2)\n",
    "}"
   ]
  },
  {
   "cell_type": "code",
   "execution_count": 9,
   "metadata": {},
   "outputs": [
    {
     "data": {
      "text/plain": [
       "{1: ('C', 1, 'D', 2),\n",
       " 2: ('A', 1, 'B', 2),\n",
       " 3: ('B', 1, 'A', 2),\n",
       " 4: ('D', 1, 'C', 2),\n",
       " 5: ('E', 1, 'F', 2),\n",
       " 6: ('G', 1, 'H', 2),\n",
       " 7: ('F', 1, 'E', 2),\n",
       " 8: ('H', 1, 'G', 2)}"
      ]
     },
     "execution_count": 9,
     "metadata": {},
     "output_type": "execute_result"
    }
   ],
   "source": [
    "round_of_16 = world_cup_2018[48:56]\n",
    "round_of_16 = round_of_16.apply(lambda row: (row.home_team[1], int(row.home_team[0]), row.away_team[1], int(row.away_team[0])), axis=1)\n",
    "round_of_16.index = range(1, len(round_of_16) + 1)\n",
    "round_of_16.to_dict()"
   ]
  },
  {
   "cell_type": "markdown",
   "metadata": {},
   "source": [
    "Manually add this to world_cup_2018_info.py"
   ]
  },
  {
   "cell_type": "markdown",
   "metadata": {},
   "source": [
    "Sought output format:"
   ]
  },
  {
   "cell_type": "raw",
   "metadata": {},
   "source": [
    "round_of_16_dates = ['2014-06-28'] * 2 + ['2014-06-29'] * 2 + ['2014-06-30'] * 2 + ['2014-07-01'] * 2"
   ]
  },
  {
   "cell_type": "code",
   "execution_count": 10,
   "metadata": {},
   "outputs": [
    {
     "name": "stdout",
     "output_type": "stream",
     "text": [
      "['2018-06-30', '2018-06-30', '2018-07-01', '2018-07-01', '2018-07-02', '2018-07-02', '2018-07-03', '2018-07-03']\n"
     ]
    }
   ],
   "source": [
    "round_of_16 = world_cup_2018[48:56]\n",
    "print(round_of_16.date.tolist())"
   ]
  },
  {
   "cell_type": "markdown",
   "metadata": {},
   "source": [
    "Manually add this to world_cup_2018_info.py"
   ]
  },
  {
   "cell_type": "markdown",
   "metadata": {},
   "source": [
    "### Quarter-finals"
   ]
  },
  {
   "cell_type": "markdown",
   "metadata": {},
   "source": [
    "Sought output format:"
   ]
  },
  {
   "cell_type": "raw",
   "metadata": {},
   "source": [
    "quarter_finals = {\n",
    "    'A': (1, 3),\n",
    "    'B': (2, 4),\n",
    "    'C': (5, 7),\n",
    "    'D': (6, 8)\n",
    "}"
   ]
  },
  {
   "cell_type": "code",
   "execution_count": 11,
   "metadata": {},
   "outputs": [
    {
     "data": {
      "text/plain": [
       "{'A': (1, 2), 'B': (5, 6), 'C': (7, 8), 'D': (3, 4)}"
      ]
     },
     "execution_count": 11,
     "metadata": {},
     "output_type": "execute_result"
    }
   ],
   "source": [
    "quarter_finals = world_cup_2018.loc[57:60]\n",
    "quarter_finals = quarter_finals.apply(lambda row: (int(re.findall('\\d+', row.home_team)[0]) - 48,\n",
    "                                  int(re.findall('\\d+', row.away_team)[0]) - 48), axis=1)\n",
    "quarter_finals.index = list('ABCD')\n",
    "quarter_finals.to_dict()"
   ]
  },
  {
   "cell_type": "markdown",
   "metadata": {},
   "source": [
    "Manually add this to world_cup_2018_info.py"
   ]
  },
  {
   "cell_type": "markdown",
   "metadata": {},
   "source": [
    "Sought output format:"
   ]
  },
  {
   "cell_type": "raw",
   "metadata": {},
   "source": [
    "quarter_final_dates = ['2014-07-04'] * 2 + ['2014-07-05'] * 2"
   ]
  },
  {
   "cell_type": "code",
   "execution_count": 12,
   "metadata": {},
   "outputs": [
    {
     "name": "stdout",
     "output_type": "stream",
     "text": [
      "['2018-07-06', '2018-07-06', '2018-07-07', '2018-07-07']\n"
     ]
    }
   ],
   "source": [
    "quarter_finals = world_cup_2018.loc[57:60]\n",
    "print(quarter_finals.date.tolist())"
   ]
  },
  {
   "cell_type": "markdown",
   "metadata": {},
   "source": [
    "Manually add this to world_cup_2018_info.py"
   ]
  },
  {
   "cell_type": "markdown",
   "metadata": {},
   "source": [
    "### Semi-finals"
   ]
  },
  {
   "cell_type": "markdown",
   "metadata": {},
   "source": [
    "Sought output format:"
   ]
  },
  {
   "cell_type": "raw",
   "metadata": {},
   "source": [
    "semi_finals = {\n",
    "    1: ('A', 'C'),\n",
    "    2: ('B', 'D')\n",
    "}"
   ]
  },
  {
   "cell_type": "code",
   "execution_count": 13,
   "metadata": {},
   "outputs": [
    {
     "data": {
      "text/plain": [
       "{1: ('A', 'B'), 2: ('C', 'D')}"
      ]
     },
     "execution_count": 13,
     "metadata": {},
     "output_type": "execute_result"
    }
   ],
   "source": [
    "semi_finals = world_cup_2018.loc[61:62]\n",
    "semi_finals = semi_finals.apply(lambda row: (chr(int(re.findall('\\d+', row.home_team)[0]) + 8),\n",
    "                                             chr(int(re.findall('\\d+', row.away_team)[0]) + 8)), axis=1)\n",
    "semi_finals.index = [1, 2]\n",
    "semi_finals.to_dict()"
   ]
  },
  {
   "cell_type": "markdown",
   "metadata": {},
   "source": [
    "Manually add this to world_cup_2018_info.py"
   ]
  },
  {
   "cell_type": "markdown",
   "metadata": {},
   "source": [
    "Sought output format:"
   ]
  },
  {
   "cell_type": "raw",
   "metadata": {},
   "source": [
    "semi_final_dates = ['2014-07-08', '2014-07-09']"
   ]
  },
  {
   "cell_type": "code",
   "execution_count": 14,
   "metadata": {},
   "outputs": [
    {
     "name": "stdout",
     "output_type": "stream",
     "text": [
      "['2018-07-10', '2018-07-11']\n"
     ]
    }
   ],
   "source": [
    "semi_finals = world_cup_2018.loc[61:62]\n",
    "print(semi_finals.date.tolist())"
   ]
  },
  {
   "cell_type": "markdown",
   "metadata": {},
   "source": [
    "Manually add this to world_cup_2018_info.py"
   ]
  },
  {
   "cell_type": "markdown",
   "metadata": {},
   "source": [
    "### Finals"
   ]
  },
  {
   "cell_type": "markdown",
   "metadata": {},
   "source": [
    "Sought output format:"
   ]
  },
  {
   "cell_type": "raw",
   "metadata": {},
   "source": [
    "finals = {\n",
    "    'bronze': (1, 2),\n",
    "    'gold': (1, 2)\n",
    "}\n",
    "\n",
    "final_dates = ['2014-07-12', '2014-07-13']"
   ]
  },
  {
   "cell_type": "code",
   "execution_count": 15,
   "metadata": {},
   "outputs": [
    {
     "data": {
      "text/html": [
       "<div>\n",
       "<style scoped>\n",
       "    .dataframe tbody tr th:only-of-type {\n",
       "        vertical-align: middle;\n",
       "    }\n",
       "\n",
       "    .dataframe tbody tr th {\n",
       "        vertical-align: top;\n",
       "    }\n",
       "\n",
       "    .dataframe thead th {\n",
       "        text-align: right;\n",
       "    }\n",
       "</style>\n",
       "<table border=\"1\" class=\"dataframe\">\n",
       "  <thead>\n",
       "    <tr style=\"text-align: right;\">\n",
       "      <th>1</th>\n",
       "      <th>date</th>\n",
       "      <th>home_team</th>\n",
       "      <th>away_team</th>\n",
       "      <th>home_score</th>\n",
       "      <th>away_score</th>\n",
       "      <th>tournament</th>\n",
       "      <th>city</th>\n",
       "      <th>country</th>\n",
       "      <th>year</th>\n",
       "      <th>pred_home_score</th>\n",
       "      <th>...</th>\n",
       "      <th>round_1</th>\n",
       "      <th>round_2</th>\n",
       "      <th>round_3</th>\n",
       "      <th>round_4</th>\n",
       "      <th>round_5</th>\n",
       "      <th>round_6</th>\n",
       "      <th>experience</th>\n",
       "      <th>age</th>\n",
       "      <th>game_day</th>\n",
       "      <th>group</th>\n",
       "    </tr>\n",
       "  </thead>\n",
       "  <tbody>\n",
       "    <tr>\n",
       "      <th>63</th>\n",
       "      <td>2018-07-14</td>\n",
       "      <td>NaN</td>\n",
       "      <td>NaN</td>\n",
       "      <td>None</td>\n",
       "      <td>None</td>\n",
       "      <td>Fifa World Cup</td>\n",
       "      <td>St Petersburg</td>\n",
       "      <td>Russia</td>\n",
       "      <td>2018</td>\n",
       "      <td>None</td>\n",
       "      <td>...</td>\n",
       "      <td>None</td>\n",
       "      <td>None</td>\n",
       "      <td>None</td>\n",
       "      <td>None</td>\n",
       "      <td>None</td>\n",
       "      <td>None</td>\n",
       "      <td>None</td>\n",
       "      <td>None</td>\n",
       "      <td>None</td>\n",
       "      <td>NaN</td>\n",
       "    </tr>\n",
       "    <tr>\n",
       "      <th>64</th>\n",
       "      <td>2018-07-15</td>\n",
       "      <td>NaN</td>\n",
       "      <td>NaN</td>\n",
       "      <td>None</td>\n",
       "      <td>None</td>\n",
       "      <td>Fifa World Cup</td>\n",
       "      <td>Moscow (Luzhniki)</td>\n",
       "      <td>Russia</td>\n",
       "      <td>2018</td>\n",
       "      <td>None</td>\n",
       "      <td>...</td>\n",
       "      <td>None</td>\n",
       "      <td>None</td>\n",
       "      <td>None</td>\n",
       "      <td>None</td>\n",
       "      <td>None</td>\n",
       "      <td>None</td>\n",
       "      <td>None</td>\n",
       "      <td>None</td>\n",
       "      <td>None</td>\n",
       "      <td>NaN</td>\n",
       "    </tr>\n",
       "  </tbody>\n",
       "</table>\n",
       "<p>2 rows × 21 columns</p>\n",
       "</div>"
      ],
      "text/plain": [
       "1         date home_team away_team home_score away_score      tournament  \\\n",
       "63  2018-07-14       NaN       NaN       None       None  Fifa World Cup   \n",
       "64  2018-07-15       NaN       NaN       None       None  Fifa World Cup   \n",
       "\n",
       "1                city country  year pred_home_score  ...  round_1 round_2  \\\n",
       "63      St Petersburg  Russia  2018            None  ...     None    None   \n",
       "64  Moscow (Luzhniki)  Russia  2018            None  ...     None    None   \n",
       "\n",
       "1  round_3 round_4 round_5 round_6 experience   age game_day group  \n",
       "63    None    None    None    None       None  None     None   NaN  \n",
       "64    None    None    None    None       None  None     None   NaN  \n",
       "\n",
       "[2 rows x 21 columns]"
      ]
     },
     "execution_count": 15,
     "metadata": {},
     "output_type": "execute_result"
    }
   ],
   "source": [
    "finals = world_cup_2018[-2:]\n",
    "finals"
   ]
  },
  {
   "cell_type": "markdown",
   "metadata": {},
   "source": [
    "Since there is not enough info in the dataframe, just create the dict manually:"
   ]
  },
  {
   "cell_type": "code",
   "execution_count": 16,
   "metadata": {},
   "outputs": [
    {
     "data": {
      "text/plain": [
       "{'bronze': (1, 2), 'gold': (1, 2)}"
      ]
     },
     "execution_count": 16,
     "metadata": {},
     "output_type": "execute_result"
    }
   ],
   "source": [
    "finals = {\n",
    "    'bronze': (1, 2),\n",
    "    'gold': (1, 2)\n",
    "}\n",
    "finals"
   ]
  },
  {
   "cell_type": "markdown",
   "metadata": {},
   "source": [
    "Manually add this to world_cup_2018_info.py"
   ]
  },
  {
   "cell_type": "markdown",
   "metadata": {},
   "source": [
    "Sought output format:"
   ]
  },
  {
   "cell_type": "raw",
   "metadata": {},
   "source": [
    "final_dates = ['2014-07-12', '2014-07-13']"
   ]
  },
  {
   "cell_type": "code",
   "execution_count": 17,
   "metadata": {},
   "outputs": [
    {
     "name": "stdout",
     "output_type": "stream",
     "text": [
      "['2018-07-14', '2018-07-15']\n"
     ]
    }
   ],
   "source": [
    "finals = world_cup_2018[-2:]\n",
    "print(finals.date.tolist())"
   ]
  },
  {
   "cell_type": "markdown",
   "metadata": {},
   "source": [
    "Manually add this to world_cup_2018_info.py"
   ]
  }
 ],
 "metadata": {
  "kernelspec": {
   "display_name": "Python 3",
   "language": "python",
   "name": "python3"
  },
  "language_info": {
   "codemirror_mode": {
    "name": "ipython",
    "version": 3
   },
   "file_extension": ".py",
   "mimetype": "text/x-python",
   "name": "python",
   "nbconvert_exporter": "python",
   "pygments_lexer": "ipython3",
   "version": "3.6.4"
  }
 },
 "nbformat": 4,
 "nbformat_minor": 2
}
