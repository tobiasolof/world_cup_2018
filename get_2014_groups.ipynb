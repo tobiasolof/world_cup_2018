{
 "cells": [
  {
   "cell_type": "markdown",
   "metadata": {},
   "source": [
    "### Import"
   ]
  },
  {
   "cell_type": "code",
   "execution_count": 1,
   "metadata": {},
   "outputs": [],
   "source": [
    "import pandas as pd\n",
    "from bs4 import BeautifulSoup\n",
    "import requests"
   ]
  },
  {
   "cell_type": "markdown",
   "metadata": {},
   "source": [
    "### Load country mapping"
   ]
  },
  {
   "cell_type": "code",
   "execution_count": 2,
   "metadata": {},
   "outputs": [],
   "source": [
    "country_mapping = pd.read_csv('./country_mapping.txt', header=None, index_col=0).T.iloc[0].to_dict()"
   ]
  },
  {
   "cell_type": "markdown",
   "metadata": {},
   "source": [
    "### Scrape groups from fifa.com"
   ]
  },
  {
   "cell_type": "code",
   "execution_count": 3,
   "metadata": {},
   "outputs": [
    {
     "data": {
      "text/plain": [
       "{'Algeria': 'H',\n",
       " 'Argentina': 'F',\n",
       " 'Australia': 'B',\n",
       " 'Belgium': 'H',\n",
       " 'Bosnia-Herzegovina': 'F',\n",
       " 'Brazil': 'A',\n",
       " 'Cameroon': 'A',\n",
       " 'Chile': 'B',\n",
       " 'Colombia': 'C',\n",
       " 'Costa Rica': 'D',\n",
       " 'Croatia': 'A',\n",
       " 'Ecuador': 'E',\n",
       " 'England': 'D',\n",
       " 'France': 'E',\n",
       " 'Germany': 'G',\n",
       " 'Ghana': 'G',\n",
       " 'Greece': 'C',\n",
       " 'Honduras': 'E',\n",
       " 'Iran': 'F',\n",
       " 'Italy': 'D',\n",
       " 'Ivory Coast': 'C',\n",
       " 'Japan': 'C',\n",
       " 'Korea Republic': 'H',\n",
       " 'Mexico': 'A',\n",
       " 'Netherlands': 'B',\n",
       " 'Nigeria': 'F',\n",
       " 'Portugal': 'G',\n",
       " 'Russia': 'H',\n",
       " 'Spain': 'B',\n",
       " 'Switzerland': 'E',\n",
       " 'USA': 'G',\n",
       " 'Uruguay': 'D'}"
      ]
     },
     "execution_count": 3,
     "metadata": {},
     "output_type": "execute_result"
    }
   ],
   "source": [
    "fifa_url = 'https://www.fifa.com/worldcup/archive/brazil2014/groups/index.html'\n",
    "teams_ordered_per_group_2014 = BeautifulSoup(requests.get(fifa_url).text, 'html.parser').select('.t-nText')[::2]\n",
    "teams_ordered_per_group_2014 = [team.text for team in teams_ordered_per_group_2014]\n",
    "teams_ordered_per_group_2014 = list(map(lambda x: country_mapping[x] if x in country_mapping else x, teams_ordered_per_group_2014))\n",
    "groups_2014 = dict(zip(teams_ordered_per_group_2014, list('AAAABBBBCCCCDDDDEEEEFFFFGGGGHHHH')))\n",
    "\n",
    "groups_2014"
   ]
  },
  {
   "cell_type": "markdown",
   "metadata": {},
   "source": [
    "Manually add this to world_cup_2014_info.py"
   ]
  }
 ],
 "metadata": {
  "kernelspec": {
   "display_name": "Python 3",
   "language": "python",
   "name": "python3"
  },
  "language_info": {
   "codemirror_mode": {
    "name": "ipython",
    "version": 3
   },
   "file_extension": ".py",
   "mimetype": "text/x-python",
   "name": "python",
   "nbconvert_exporter": "python",
   "pygments_lexer": "ipython3",
   "version": "3.6.4"
  }
 },
 "nbformat": 4,
 "nbformat_minor": 2
}
